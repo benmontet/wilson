{
 "cells": [
  {
   "cell_type": "code",
   "execution_count": 2,
   "id": "e93ca3e3",
   "metadata": {},
   "outputs": [],
   "source": [
    "from lightkurve import search_lightcurve, LightCurveCollection\n",
    "import numpy as np\n",
    "import matplotlib.pyplot as plt\n",
    "import warnings\n",
    "warnings.filterwarnings('ignore')\n",
    "%config InlineBackend.figure_format='retina'\n",
    "%matplotlib inline\n",
    "\n",
    "from lightkurve.correctors import CBVCorrector\n",
    "\n",
    "import pandas as pd"
   ]
  },
  {
   "cell_type": "code",
   "execution_count": 3,
   "id": "7b351ccc",
   "metadata": {},
   "outputs": [],
   "source": [
    "targets = pd.read_csv('../../data/samples/target_sample.csv')"
   ]
  },
  {
   "cell_type": "code",
   "execution_count": 7,
   "id": "a6c6e159",
   "metadata": {},
   "outputs": [
    {
     "data": {
      "text/plain": [
       "1293177"
      ]
     },
     "execution_count": 7,
     "metadata": {},
     "output_type": "execute_result"
    }
   ],
   "source": [
    "targets['kepid'][0]"
   ]
  },
  {
   "cell_type": "code",
   "execution_count": null,
   "id": "6c56fa6c",
   "metadata": {},
   "outputs": [
    {
     "name": "stdout",
     "output_type": "stream",
     "text": [
      "0 1293177\n"
     ]
    }
   ],
   "source": [
    "for i in range(len(targets)):\n",
    "    print(i, targets['kepid'][i])\n",
    "\n",
    "    lcs = search_lightcurve('KIC ' + str(targets['kepid'][i]), cadence='long').download_all(flux_column='sap_flux')\n",
    "\n",
    "    cbvCorrector = []\n",
    "\n",
    "    [cbvCorrector.append(CBVCorrector(lcs[i])) for i in range(len(lcs))]"
   ]
  },
  {
   "cell_type": "code",
   "execution_count": null,
   "id": "325bfcbe",
   "metadata": {},
   "outputs": [],
   "source": []
  }
 ],
 "metadata": {
  "kernelspec": {
   "display_name": "Python 3 (ipykernel)",
   "language": "python",
   "name": "python3"
  },
  "language_info": {
   "codemirror_mode": {
    "name": "ipython",
    "version": 3
   },
   "file_extension": ".py",
   "mimetype": "text/x-python",
   "name": "python",
   "nbconvert_exporter": "python",
   "pygments_lexer": "ipython3",
   "version": "3.9.7"
  }
 },
 "nbformat": 4,
 "nbformat_minor": 5
}
