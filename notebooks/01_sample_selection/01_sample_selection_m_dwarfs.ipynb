{
 "cells": [
  {
   "cell_type": "markdown",
   "id": "3236ba27",
   "metadata": {},
   "source": [
    "# Select M dwarfs through heuristics"
   ]
  },
  {
   "cell_type": "code",
   "execution_count": 1,
   "id": "39402c13",
   "metadata": {},
   "outputs": [],
   "source": [
    "import matplotlib.pyplot as plt\n",
    "import numpy as np"
   ]
  },
  {
   "cell_type": "code",
   "execution_count": 2,
   "id": "3a9c8bc3",
   "metadata": {},
   "outputs": [],
   "source": [
    "import pandas as pd"
   ]
  },
  {
   "cell_type": "code",
   "execution_count": 3,
   "id": "8fc7f95e",
   "metadata": {},
   "outputs": [],
   "source": [
    "from astropy.io import fits"
   ]
  },
  {
   "cell_type": "code",
   "execution_count": 4,
   "id": "43642260",
   "metadata": {},
   "outputs": [],
   "source": [
    "hdus = fits.open('../../data/Gaia/kepler_dr3_good.fits')"
   ]
  },
  {
   "cell_type": "markdown",
   "id": "23ba4b34",
   "metadata": {},
   "source": [
    "### Read in the table to a pandas dataframe"
   ]
  },
  {
   "cell_type": "code",
   "execution_count": 5,
   "id": "7dc864e0",
   "metadata": {},
   "outputs": [],
   "source": [
    "from astropy.table import Table"
   ]
  },
  {
   "cell_type": "code",
   "execution_count": 6,
   "id": "7bea3d04",
   "metadata": {},
   "outputs": [],
   "source": [
    "tab = Table()"
   ]
  },
  {
   "cell_type": "code",
   "execution_count": 7,
   "id": "a7c72054",
   "metadata": {},
   "outputs": [],
   "source": [
    "for col in hdus[1].columns:\n",
    "    tab[col.name] = hdus[1].data[col.name]"
   ]
  },
  {
   "cell_type": "code",
   "execution_count": 8,
   "id": "a1b98aa6",
   "metadata": {},
   "outputs": [],
   "source": [
    "df = tab.to_pandas()"
   ]
  },
  {
   "cell_type": "code",
   "execution_count": 9,
   "id": "bf28d7a3",
   "metadata": {},
   "outputs": [
    {
     "data": {
      "text/html": [
       "<div>\n",
       "<style scoped>\n",
       "    .dataframe tbody tr th:only-of-type {\n",
       "        vertical-align: middle;\n",
       "    }\n",
       "\n",
       "    .dataframe tbody tr th {\n",
       "        vertical-align: top;\n",
       "    }\n",
       "\n",
       "    .dataframe thead th {\n",
       "        text-align: right;\n",
       "    }\n",
       "</style>\n",
       "<table border=\"1\" class=\"dataframe\">\n",
       "  <thead>\n",
       "    <tr style=\"text-align: right;\">\n",
       "      <th></th>\n",
       "      <th>kepid</th>\n",
       "      <th>ra_kic</th>\n",
       "      <th>dec_kic</th>\n",
       "      <th>source_id</th>\n",
       "      <th>random_index</th>\n",
       "      <th>ra</th>\n",
       "      <th>dec</th>\n",
       "      <th>parallax</th>\n",
       "      <th>parallax_error</th>\n",
       "      <th>parallax_over_error</th>\n",
       "      <th>...</th>\n",
       "      <th>mass_err2</th>\n",
       "      <th>prov_sec</th>\n",
       "      <th>nconfp</th>\n",
       "      <th>nkoi</th>\n",
       "      <th>ntce</th>\n",
       "      <th>jmag</th>\n",
       "      <th>hmag</th>\n",
       "      <th>kmag</th>\n",
       "      <th>planet?</th>\n",
       "      <th>kepler_gaia_mag_diff</th>\n",
       "    </tr>\n",
       "  </thead>\n",
       "  <tbody>\n",
       "    <tr>\n",
       "      <th>196757</th>\n",
       "      <td>12984227</td>\n",
       "      <td>290.07986</td>\n",
       "      <td>52.453712</td>\n",
       "      <td>2139330189463960320</td>\n",
       "      <td>1434812375</td>\n",
       "      <td>290.079838</td>\n",
       "      <td>52.453692</td>\n",
       "      <td>0.246011</td>\n",
       "      <td>0.018616</td>\n",
       "      <td>13.214761</td>\n",
       "      <td>...</td>\n",
       "      <td>-0.484</td>\n",
       "      <td>DSEP</td>\n",
       "      <td>0</td>\n",
       "      <td>0</td>\n",
       "      <td>0</td>\n",
       "      <td>8.505</td>\n",
       "      <td>7.589</td>\n",
       "      <td>7.295</td>\n",
       "      <td>none</td>\n",
       "      <td>-0.332914</td>\n",
       "    </tr>\n",
       "    <tr>\n",
       "      <th>196758</th>\n",
       "      <td>12984288</td>\n",
       "      <td>290.11249</td>\n",
       "      <td>52.415588</td>\n",
       "      <td>2139329875927860736</td>\n",
       "      <td>662936371</td>\n",
       "      <td>290.112599</td>\n",
       "      <td>52.415592</td>\n",
       "      <td>0.005198</td>\n",
       "      <td>0.055361</td>\n",
       "      <td>0.093884</td>\n",
       "      <td>...</td>\n",
       "      <td>-0.157</td>\n",
       "      <td>DSEP</td>\n",
       "      <td>0</td>\n",
       "      <td>0</td>\n",
       "      <td>0</td>\n",
       "      <td>16.289</td>\n",
       "      <td>15.603</td>\n",
       "      <td>15.306</td>\n",
       "      <td>none</td>\n",
       "      <td>-0.235144</td>\n",
       "    </tr>\n",
       "    <tr>\n",
       "      <th>196759</th>\n",
       "      <td>12984307</td>\n",
       "      <td>290.12332</td>\n",
       "      <td>52.474621</td>\n",
       "      <td>2139330636140575616</td>\n",
       "      <td>923414311</td>\n",
       "      <td>290.123462</td>\n",
       "      <td>52.474735</td>\n",
       "      <td>1.779882</td>\n",
       "      <td>0.009830</td>\n",
       "      <td>181.061508</td>\n",
       "      <td>...</td>\n",
       "      <td>-0.375</td>\n",
       "      <td>DSEP</td>\n",
       "      <td>0</td>\n",
       "      <td>0</td>\n",
       "      <td>0</td>\n",
       "      <td>11.459</td>\n",
       "      <td>11.104</td>\n",
       "      <td>11.075</td>\n",
       "      <td>none</td>\n",
       "      <td>-0.035185</td>\n",
       "    </tr>\n",
       "    <tr>\n",
       "      <th>196760</th>\n",
       "      <td>12984404</td>\n",
       "      <td>290.17230</td>\n",
       "      <td>52.423828</td>\n",
       "      <td>2139329467909467008</td>\n",
       "      <td>595517067</td>\n",
       "      <td>290.172325</td>\n",
       "      <td>52.423856</td>\n",
       "      <td>0.707362</td>\n",
       "      <td>0.009949</td>\n",
       "      <td>71.101357</td>\n",
       "      <td>...</td>\n",
       "      <td>-2.250</td>\n",
       "      <td>DSEP</td>\n",
       "      <td>0</td>\n",
       "      <td>0</td>\n",
       "      <td>0</td>\n",
       "      <td>9.851</td>\n",
       "      <td>9.212</td>\n",
       "      <td>9.095</td>\n",
       "      <td>none</td>\n",
       "      <td>-0.027551</td>\n",
       "    </tr>\n",
       "    <tr>\n",
       "      <th>196761</th>\n",
       "      <td>12984422</td>\n",
       "      <td>290.18420</td>\n",
       "      <td>52.404362</td>\n",
       "      <td>2139329399189739392</td>\n",
       "      <td>1570613422</td>\n",
       "      <td>290.184199</td>\n",
       "      <td>52.404460</td>\n",
       "      <td>0.975763</td>\n",
       "      <td>0.024997</td>\n",
       "      <td>39.035137</td>\n",
       "      <td>...</td>\n",
       "      <td>-0.102</td>\n",
       "      <td>DSEP</td>\n",
       "      <td>0</td>\n",
       "      <td>0</td>\n",
       "      <td>0</td>\n",
       "      <td>14.314</td>\n",
       "      <td>13.814</td>\n",
       "      <td>13.747</td>\n",
       "      <td>none</td>\n",
       "      <td>-0.040604</td>\n",
       "    </tr>\n",
       "  </tbody>\n",
       "</table>\n",
       "<p>5 rows × 86 columns</p>\n",
       "</div>"
      ],
      "text/plain": [
       "           kepid     ra_kic    dec_kic            source_id  random_index  \\\n",
       "196757  12984227  290.07986  52.453712  2139330189463960320    1434812375   \n",
       "196758  12984288  290.11249  52.415588  2139329875927860736     662936371   \n",
       "196759  12984307  290.12332  52.474621  2139330636140575616     923414311   \n",
       "196760  12984404  290.17230  52.423828  2139329467909467008     595517067   \n",
       "196761  12984422  290.18420  52.404362  2139329399189739392    1570613422   \n",
       "\n",
       "                ra        dec  parallax  parallax_error  parallax_over_error  \\\n",
       "196757  290.079838  52.453692  0.246011        0.018616            13.214761   \n",
       "196758  290.112599  52.415592  0.005198        0.055361             0.093884   \n",
       "196759  290.123462  52.474735  1.779882        0.009830           181.061508   \n",
       "196760  290.172325  52.423856  0.707362        0.009949            71.101357   \n",
       "196761  290.184199  52.404460  0.975763        0.024997            39.035137   \n",
       "\n",
       "        ...  mass_err2  prov_sec  nconfp  nkoi  ntce    jmag    hmag    kmag  \\\n",
       "196757  ...     -0.484      DSEP       0     0     0   8.505   7.589   7.295   \n",
       "196758  ...     -0.157      DSEP       0     0     0  16.289  15.603  15.306   \n",
       "196759  ...     -0.375      DSEP       0     0     0  11.459  11.104  11.075   \n",
       "196760  ...     -2.250      DSEP       0     0     0   9.851   9.212   9.095   \n",
       "196761  ...     -0.102      DSEP       0     0     0  14.314  13.814  13.747   \n",
       "\n",
       "        planet?  kepler_gaia_mag_diff  \n",
       "196757     none             -0.332914  \n",
       "196758     none             -0.235144  \n",
       "196759     none             -0.035185  \n",
       "196760     none             -0.027551  \n",
       "196761     none             -0.040604  \n",
       "\n",
       "[5 rows x 86 columns]"
      ]
     },
     "execution_count": 9,
     "metadata": {},
     "output_type": "execute_result"
    }
   ],
   "source": [
    "df.tail()"
   ]
  },
  {
   "cell_type": "markdown",
   "id": "fc036689",
   "metadata": {},
   "source": [
    "### Criterion 1: Teff and logg cuts"
   ]
  },
  {
   "cell_type": "code",
   "execution_count": 10,
   "id": "277d4d75",
   "metadata": {},
   "outputs": [],
   "source": [
    "criterion1 = df.teff < 3400"
   ]
  },
  {
   "cell_type": "code",
   "execution_count": 11,
   "id": "ad340242",
   "metadata": {},
   "outputs": [
    {
     "data": {
      "text/plain": [
       "989"
      ]
     },
     "execution_count": 11,
     "metadata": {},
     "output_type": "execute_result"
    }
   ],
   "source": [
    "criterion1.sum()"
   ]
  },
  {
   "cell_type": "markdown",
   "id": "1234067e",
   "metadata": {},
   "source": [
    "### Criterion 2:"
   ]
  },
  {
   "cell_type": "code",
   "execution_count": 20,
   "id": "42a90008",
   "metadata": {},
   "outputs": [
    {
     "data": {
      "text/plain": [
       "[]"
      ]
     },
     "execution_count": 20,
     "metadata": {},
     "output_type": "execute_result"
    },
    {
     "data": {
      "image/png": "[encoded data removed]",
      "text/plain": [
       "<Figure size 720x720 with 1 Axes>"
      ]
     },
     "metadata": {
      "needs_background": "light"
     },
     "output_type": "display_data"
    }
   ],
   "source": [
    "plt.figure(figsize=(10,10))\n",
    "plt.plot(df.teff, df.logg, '.')\n",
    "plt.xlim(20000, 2000)\n",
    "plt.ylim(6, 0)\n",
    "plt.axvline(3400, color='k')\n",
    "plt.axhline(4, color='k')\n",
    "plt.semilogx()"
   ]
  },
  {
   "cell_type": "code",
   "execution_count": 21,
   "id": "bb524aeb",
   "metadata": {},
   "outputs": [],
   "source": [
    "criterion2 = df.logg > 4.5"
   ]
  },
  {
   "cell_type": "markdown",
   "id": "bb7f2af7",
   "metadata": {},
   "source": [
    "# 685 targets available"
   ]
  },
  {
   "cell_type": "code",
   "execution_count": 109,
   "id": "a46d786a",
   "metadata": {},
   "outputs": [],
   "source": [
    "dataslice = df[criterion1 & criterion2]\n",
    "sample = dataslice['kepid']"
   ]
  },
  {
   "cell_type": "markdown",
   "id": "3cae5780",
   "metadata": {},
   "source": [
    "# Spot check a couple in FFIs"
   ]
  },
  {
   "cell_type": "code",
   "execution_count": 38,
   "id": "6a5a5ab2",
   "metadata": {},
   "outputs": [],
   "source": [
    "times = np.array([54945.74206,54945.8670833,54946.0182163,54946.2335259,54946.3377372,54946.5495655,\n",
    "                  54946.7334679,54947.1662509,55062.8253608,55091.0055606,55123.0864583,55153.9797114,\n",
    "                  55182.0366329,55215.9548927,55216.0352649,55245.7660019,55274.7398619,55307.5350333,\n",
    "                  55336.4281441,55370.695297,55399.0571196,55430.8109392,55461.8291274,55492.8064711,\n",
    "                  55522.7621353,55552.0843583,55585.5760016,55614.7389024,55677.4444762,55706.6440223,\n",
    "                  55738.4591443,55769.477399,55801.7624176,55832.8010616,55864.8001316,55895.757043,\n",
    "                  55930.8619526,55958.4268791,55986.5230115,56014.5579184,56047.5173675,56077.4525238,\n",
    "                  56105.5895974,56137.5273556,56168.8315615,56203.8547584,56236.834641,56267.9141396,\n",
    "                  56303.6729488,56330.563549,56357.495041,56390.4952381])\n",
    "\n",
    "ffidata = pd.read_csv('../../data/f3/lc_data_new.out')"
   ]
  },
  {
   "cell_type": "code",
   "execution_count": 101,
   "id": "63799542",
   "metadata": {},
   "outputs": [],
   "source": [
    "index = 123\n",
    "kicid = sample.iloc[index]"
   ]
  },
  {
   "cell_type": "code",
   "execution_count": 102,
   "id": "816f254c",
   "metadata": {},
   "outputs": [
    {
     "data": {
      "text/plain": [
       "Text(0.5, 1.0, '5941130')"
      ]
     },
     "execution_count": 102,
     "metadata": {},
     "output_type": "execute_result"
    },
    {
     "data": {
      "image/png": "[encoded data removed]",
      "text/plain": [
       "<Figure size 864x360 with 1 Axes>"
      ]
     },
     "metadata": {
      "needs_background": "light"
     },
     "output_type": "display_data"
    }
   ],
   "source": [
    "flux = ffidata[ffidata['KIC'] == kicid].iloc[:,1:53]\n",
    "yerr = ffidata[ffidata['KIC'] == kicid].iloc[:,-52:]\n",
    "\n",
    "plt.figure(figsize=(12,5))\n",
    "plt.errorbar(times, np.asarray(flux)[0], yerr=np.asarray(yerr)[0], fmt='.')\n",
    "plt.xlabel('Time')\n",
    "plt.ylabel('Normalised Flux')\n",
    "plt.title(kicid)"
   ]
  },
  {
   "cell_type": "markdown",
   "id": "18dcde70",
   "metadata": {},
   "source": [
    "# let's get the rotation periods --- and the ones without measured rotation periods"
   ]
  },
  {
   "cell_type": "code",
   "execution_count": 125,
   "id": "9706c530",
   "metadata": {},
   "outputs": [],
   "source": [
    "rot_table = Table.read('../../data/literature/apjs492452t1_mrt.txt', format='cds').to_pandas()\n",
    "no_rot_table = Table.read('../../data/literature/apjs492452t2_mrt.txt', format='cds').to_pandas()\n",
    "\n",
    "rot_table['heritage'] = 1\n",
    "no_rot_table['heritage'] = 2"
   ]
  },
  {
   "cell_type": "code",
   "execution_count": 126,
   "id": "350fa5fc",
   "metadata": {},
   "outputs": [],
   "source": [
    "combined_mcquillan = pd.concat([rot_table, no_rot_table], )"
   ]
  },
  {
   "cell_type": "code",
   "execution_count": 127,
   "id": "fc1ab266",
   "metadata": {},
   "outputs": [
    {
     "data": {
      "text/html": [
       "<div>\n",
       "<style scoped>\n",
       "    .dataframe tbody tr th:only-of-type {\n",
       "        vertical-align: middle;\n",
       "    }\n",
       "\n",
       "    .dataframe tbody tr th {\n",
       "        vertical-align: top;\n",
       "    }\n",
       "\n",
       "    .dataframe thead th {\n",
       "        text-align: right;\n",
       "    }\n",
       "</style>\n",
       "<table border=\"1\" class=\"dataframe\">\n",
       "  <thead>\n",
       "    <tr style=\"text-align: right;\">\n",
       "      <th></th>\n",
       "      <th>KIC</th>\n",
       "      <th>Teff</th>\n",
       "      <th>log(g)</th>\n",
       "      <th>Mass</th>\n",
       "      <th>PRot</th>\n",
       "      <th>e_PRot</th>\n",
       "      <th>Rper</th>\n",
       "      <th>LPH</th>\n",
       "      <th>w</th>\n",
       "      <th>DC</th>\n",
       "      <th>Flag</th>\n",
       "      <th>heritage</th>\n",
       "    </tr>\n",
       "  </thead>\n",
       "  <tbody>\n",
       "    <tr>\n",
       "      <th>0</th>\n",
       "      <td>892376</td>\n",
       "      <td>3813</td>\n",
       "      <td>4.47</td>\n",
       "      <td>0.4699</td>\n",
       "      <td>1.532</td>\n",
       "      <td>0.007</td>\n",
       "      <td>7306.69</td>\n",
       "      <td>0.823</td>\n",
       "      <td>0.4503</td>\n",
       "      <td>0</td>\n",
       "      <td>---</td>\n",
       "      <td>1</td>\n",
       "    </tr>\n",
       "    <tr>\n",
       "      <th>1</th>\n",
       "      <td>1026146</td>\n",
       "      <td>4261</td>\n",
       "      <td>4.57</td>\n",
       "      <td>0.6472</td>\n",
       "      <td>14.891</td>\n",
       "      <td>0.120</td>\n",
       "      <td>11742.56</td>\n",
       "      <td>1.405</td>\n",
       "      <td>0.7229</td>\n",
       "      <td>0</td>\n",
       "      <td>---</td>\n",
       "      <td>1</td>\n",
       "    </tr>\n",
       "    <tr>\n",
       "      <th>2</th>\n",
       "      <td>1026474</td>\n",
       "      <td>4122</td>\n",
       "      <td>4.56</td>\n",
       "      <td>0.5914</td>\n",
       "      <td>1.569</td>\n",
       "      <td>0.006</td>\n",
       "      <td>30471.80</td>\n",
       "      <td>1.204</td>\n",
       "      <td>0.6061</td>\n",
       "      <td>0</td>\n",
       "      <td>---</td>\n",
       "      <td>1</td>\n",
       "    </tr>\n",
       "    <tr>\n",
       "      <th>3</th>\n",
       "      <td>1162635</td>\n",
       "      <td>3760</td>\n",
       "      <td>4.77</td>\n",
       "      <td>0.4497</td>\n",
       "      <td>15.678</td>\n",
       "      <td>0.019</td>\n",
       "      <td>10207.47</td>\n",
       "      <td>0.978</td>\n",
       "      <td>0.5445</td>\n",
       "      <td>1</td>\n",
       "      <td>---</td>\n",
       "      <td>1</td>\n",
       "    </tr>\n",
       "    <tr>\n",
       "      <th>4</th>\n",
       "      <td>1164102</td>\n",
       "      <td>4045</td>\n",
       "      <td>4.62</td>\n",
       "      <td>0.5606</td>\n",
       "      <td>31.496</td>\n",
       "      <td>0.474</td>\n",
       "      <td>5139.74</td>\n",
       "      <td>0.568</td>\n",
       "      <td>0.3939</td>\n",
       "      <td>0</td>\n",
       "      <td>---</td>\n",
       "      <td>1</td>\n",
       "    </tr>\n",
       "    <tr>\n",
       "      <th>...</th>\n",
       "      <td>...</td>\n",
       "      <td>...</td>\n",
       "      <td>...</td>\n",
       "      <td>...</td>\n",
       "      <td>...</td>\n",
       "      <td>...</td>\n",
       "      <td>...</td>\n",
       "      <td>...</td>\n",
       "      <td>...</td>\n",
       "      <td>...</td>\n",
       "      <td>...</td>\n",
       "      <td>...</td>\n",
       "    </tr>\n",
       "    <tr>\n",
       "      <th>98995</th>\n",
       "      <td>12935010</td>\n",
       "      <td>4776</td>\n",
       "      <td>4.40</td>\n",
       "      <td>0.7756</td>\n",
       "      <td>29.986</td>\n",
       "      <td>3.730</td>\n",
       "      <td>NaN</td>\n",
       "      <td>0.269</td>\n",
       "      <td>0.1523</td>\n",
       "      <td>0</td>\n",
       "      <td>NaN</td>\n",
       "      <td>2</td>\n",
       "    </tr>\n",
       "    <tr>\n",
       "      <th>98996</th>\n",
       "      <td>12935127</td>\n",
       "      <td>4769</td>\n",
       "      <td>4.56</td>\n",
       "      <td>0.7737</td>\n",
       "      <td>NaN</td>\n",
       "      <td>NaN</td>\n",
       "      <td>NaN</td>\n",
       "      <td>NaN</td>\n",
       "      <td>NaN</td>\n",
       "      <td>0</td>\n",
       "      <td>NaN</td>\n",
       "      <td>2</td>\n",
       "    </tr>\n",
       "    <tr>\n",
       "      <th>98997</th>\n",
       "      <td>12984183</td>\n",
       "      <td>5176</td>\n",
       "      <td>4.49</td>\n",
       "      <td>0.8798</td>\n",
       "      <td>24.754</td>\n",
       "      <td>1.705</td>\n",
       "      <td>NaN</td>\n",
       "      <td>0.285</td>\n",
       "      <td>0.1650</td>\n",
       "      <td>0</td>\n",
       "      <td>NaN</td>\n",
       "      <td>2</td>\n",
       "    </tr>\n",
       "    <tr>\n",
       "      <th>98998</th>\n",
       "      <td>12984200</td>\n",
       "      <td>5621</td>\n",
       "      <td>4.46</td>\n",
       "      <td>0.9975</td>\n",
       "      <td>NaN</td>\n",
       "      <td>NaN</td>\n",
       "      <td>NaN</td>\n",
       "      <td>NaN</td>\n",
       "      <td>NaN</td>\n",
       "      <td>0</td>\n",
       "      <td>NaN</td>\n",
       "      <td>2</td>\n",
       "    </tr>\n",
       "    <tr>\n",
       "      <th>98999</th>\n",
       "      <td>12984422</td>\n",
       "      <td>5078</td>\n",
       "      <td>4.57</td>\n",
       "      <td>0.8545</td>\n",
       "      <td>NaN</td>\n",
       "      <td>NaN</td>\n",
       "      <td>NaN</td>\n",
       "      <td>NaN</td>\n",
       "      <td>NaN</td>\n",
       "      <td>0</td>\n",
       "      <td>NaN</td>\n",
       "      <td>2</td>\n",
       "    </tr>\n",
       "  </tbody>\n",
       "</table>\n",
       "<p>133030 rows × 12 columns</p>\n",
       "</div>"
      ],
      "text/plain": [
       "            KIC  Teff  log(g)    Mass    PRot  e_PRot      Rper    LPH  \\\n",
       "0        892376  3813    4.47  0.4699   1.532   0.007   7306.69  0.823   \n",
       "1       1026146  4261    4.57  0.6472  14.891   0.120  11742.56  1.405   \n",
       "2       1026474  4122    4.56  0.5914   1.569   0.006  30471.80  1.204   \n",
       "3       1162635  3760    4.77  0.4497  15.678   0.019  10207.47  0.978   \n",
       "4       1164102  4045    4.62  0.5606  31.496   0.474   5139.74  0.568   \n",
       "...         ...   ...     ...     ...     ...     ...       ...    ...   \n",
       "98995  12935010  4776    4.40  0.7756  29.986   3.730       NaN  0.269   \n",
       "98996  12935127  4769    4.56  0.7737     NaN     NaN       NaN    NaN   \n",
       "98997  12984183  5176    4.49  0.8798  24.754   1.705       NaN  0.285   \n",
       "98998  12984200  5621    4.46  0.9975     NaN     NaN       NaN    NaN   \n",
       "98999  12984422  5078    4.57  0.8545     NaN     NaN       NaN    NaN   \n",
       "\n",
       "            w  DC Flag  heritage  \n",
       "0      0.4503   0  ---         1  \n",
       "1      0.7229   0  ---         1  \n",
       "2      0.6061   0  ---         1  \n",
       "3      0.5445   1  ---         1  \n",
       "4      0.3939   0  ---         1  \n",
       "...       ...  ..  ...       ...  \n",
       "98995  0.1523   0  NaN         2  \n",
       "98996     NaN   0  NaN         2  \n",
       "98997  0.1650   0  NaN         2  \n",
       "98998     NaN   0  NaN         2  \n",
       "98999     NaN   0  NaN         2  \n",
       "\n",
       "[133030 rows x 12 columns]"
      ]
     },
     "execution_count": 127,
     "metadata": {},
     "output_type": "execute_result"
    }
   ],
   "source": [
    "combined_mcquillan"
   ]
  },
  {
   "cell_type": "code",
   "execution_count": 131,
   "id": "2e4b551c",
   "metadata": {},
   "outputs": [],
   "source": [
    "with_prot = pd.merge(dataslice, combined_mcquillan, left_on='kepid', right_on='KIC', how='left')"
   ]
  },
  {
   "cell_type": "code",
   "execution_count": 135,
   "id": "f1b49144",
   "metadata": {},
   "outputs": [
    {
     "data": {
      "text/plain": [
       "NaN    436\n",
       "1.0    173\n",
       "2.0     76\n",
       "Name: heritage, dtype: int64"
      ]
     },
     "execution_count": 135,
     "metadata": {},
     "output_type": "execute_result"
    }
   ],
   "source": [
    "with_prot.heritage.value_counts(dropna=False)"
   ]
  },
  {
   "cell_type": "code",
   "execution_count": 145,
   "id": "6ccecd65",
   "metadata": {},
   "outputs": [
    {
     "data": {
      "text/plain": [
       "3      15.993\n",
       "5      15.942\n",
       "11     14.855\n",
       "20     15.725\n",
       "28     15.358\n",
       "        ...  \n",
       "666    14.722\n",
       "669    15.109\n",
       "674    15.116\n",
       "675    14.769\n",
       "678    14.574\n",
       "Name: kepmag, Length: 76, dtype: float64"
      ]
     },
     "execution_count": 145,
     "metadata": {},
     "output_type": "execute_result"
    }
   ],
   "source": [
    "with_prot[with_prot.heritage==2].kepmag"
   ]
  },
  {
   "cell_type": "code",
   "execution_count": null,
   "id": "fe85d4c1",
   "metadata": {},
   "outputs": [],
   "source": []
  }
 ],
 "metadata": {
  "kernelspec": {
   "display_name": "Python 3 (ipykernel)",
   "language": "python",
   "name": "python3"
  },
  "language_info": {
   "codemirror_mode": {
    "name": "ipython",
    "version": 3
   },
   "file_extension": ".py",
   "mimetype": "text/x-python",
   "name": "python",
   "nbconvert_exporter": "python",
   "pygments_lexer": "ipython3",
   "version": "3.9.7"
  }
 },
 "nbformat": 4,
 "nbformat_minor": 5
}
