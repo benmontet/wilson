{
 "cells": [
  {
   "cell_type": "markdown",
   "id": "3236ba27",
   "metadata": {},
   "source": [
    "# Select M dwarfs through heuristics"
   ]
  },
  {
   "cell_type": "code",
   "execution_count": 1,
   "id": "39402c13",
   "metadata": {},
   "outputs": [],
   "source": [
    "import matplotlib.pyplot as plt\n",
    "import numpy as np"
   ]
  },
  {
   "cell_type": "code",
   "execution_count": 2,
   "id": "3a9c8bc3",
   "metadata": {},
   "outputs": [],
   "source": [
    "import pandas as pd"
   ]
  },
  {
   "cell_type": "code",
   "execution_count": 3,
   "id": "8fc7f95e",
   "metadata": {},
   "outputs": [],
   "source": [
    "from astropy.io import fits"
   ]
  },
  {
   "cell_type": "code",
   "execution_count": 4,
   "id": "43642260",
   "metadata": {},
   "outputs": [],
   "source": [
    "hdus = fits.open('../../data/Gaia/kepler_dr3_good.fits')"
   ]
  },
  {
   "cell_type": "markdown",
   "id": "23ba4b34",
   "metadata": {},
   "source": [
    "### Read in the table to a pandas dataframe"
   ]
  },
  {
   "cell_type": "code",
   "execution_count": 5,
   "id": "7dc864e0",
   "metadata": {},
   "outputs": [],
   "source": [
    "from astropy.table import Table"
   ]
  },
  {
   "cell_type": "code",
   "execution_count": 6,
   "id": "7bea3d04",
   "metadata": {},
   "outputs": [],
   "source": [
    "tab = Table()"
   ]
  },
  {
   "cell_type": "code",
   "execution_count": 7,
   "id": "a7c72054",
   "metadata": {},
   "outputs": [],
   "source": [
    "for col in hdus[1].columns:\n",
    "    tab[col.name] = hdus[1].data[col.name]"
   ]
  },
  {
   "cell_type": "code",
   "execution_count": 9,
   "id": "a1b98aa6",
   "metadata": {},
   "outputs": [],
   "source": [
    "df = tab.to_pandas()"
   ]
  },
  {
   "cell_type": "code",
   "execution_count": 15,
   "id": "bf28d7a3",
   "metadata": {},
   "outputs": [
    {
     "data": {
      "text/html": [
       "<div>\n",
       "<style scoped>\n",
       "    .dataframe tbody tr th:only-of-type {\n",
       "        vertical-align: middle;\n",
       "    }\n",
       "\n",
       "    .dataframe tbody tr th {\n",
       "        vertical-align: top;\n",
       "    }\n",
       "\n",
       "    .dataframe thead th {\n",
       "        text-align: right;\n",
       "    }\n",
       "</style>\n",
       "<table border=\"1\" class=\"dataframe\">\n",
       "  <thead>\n",
       "    <tr style=\"text-align: right;\">\n",
       "      <th></th>\n",
       "      <th>kepid</th>\n",
       "      <th>ra_kic</th>\n",
       "      <th>dec_kic</th>\n",
       "      <th>source_id</th>\n",
       "      <th>random_index</th>\n",
       "      <th>ra</th>\n",
       "      <th>dec</th>\n",
       "      <th>parallax</th>\n",
       "      <th>parallax_error</th>\n",
       "      <th>parallax_over_error</th>\n",
       "      <th>...</th>\n",
       "      <th>mass_err2</th>\n",
       "      <th>prov_sec</th>\n",
       "      <th>nconfp</th>\n",
       "      <th>nkoi</th>\n",
       "      <th>ntce</th>\n",
       "      <th>jmag</th>\n",
       "      <th>hmag</th>\n",
       "      <th>kmag</th>\n",
       "      <th>planet?</th>\n",
       "      <th>kepler_gaia_mag_diff</th>\n",
       "    </tr>\n",
       "  </thead>\n",
       "  <tbody>\n",
       "    <tr>\n",
       "      <th>196757</th>\n",
       "      <td>12984227</td>\n",
       "      <td>290.07986</td>\n",
       "      <td>52.453712</td>\n",
       "      <td>2139330189463960320</td>\n",
       "      <td>1434812375</td>\n",
       "      <td>290.079838</td>\n",
       "      <td>52.453692</td>\n",
       "      <td>0.246011</td>\n",
       "      <td>0.018616</td>\n",
       "      <td>13.214761</td>\n",
       "      <td>...</td>\n",
       "      <td>-0.484</td>\n",
       "      <td>DSEP</td>\n",
       "      <td>0</td>\n",
       "      <td>0</td>\n",
       "      <td>0</td>\n",
       "      <td>8.505</td>\n",
       "      <td>7.589</td>\n",
       "      <td>7.295</td>\n",
       "      <td>none</td>\n",
       "      <td>-0.332914</td>\n",
       "    </tr>\n",
       "    <tr>\n",
       "      <th>196758</th>\n",
       "      <td>12984288</td>\n",
       "      <td>290.11249</td>\n",
       "      <td>52.415588</td>\n",
       "      <td>2139329875927860736</td>\n",
       "      <td>662936371</td>\n",
       "      <td>290.112599</td>\n",
       "      <td>52.415592</td>\n",
       "      <td>0.005198</td>\n",
       "      <td>0.055361</td>\n",
       "      <td>0.093884</td>\n",
       "      <td>...</td>\n",
       "      <td>-0.157</td>\n",
       "      <td>DSEP</td>\n",
       "      <td>0</td>\n",
       "      <td>0</td>\n",
       "      <td>0</td>\n",
       "      <td>16.289</td>\n",
       "      <td>15.603</td>\n",
       "      <td>15.306</td>\n",
       "      <td>none</td>\n",
       "      <td>-0.235144</td>\n",
       "    </tr>\n",
       "    <tr>\n",
       "      <th>196759</th>\n",
       "      <td>12984307</td>\n",
       "      <td>290.12332</td>\n",
       "      <td>52.474621</td>\n",
       "      <td>2139330636140575616</td>\n",
       "      <td>923414311</td>\n",
       "      <td>290.123462</td>\n",
       "      <td>52.474735</td>\n",
       "      <td>1.779882</td>\n",
       "      <td>0.009830</td>\n",
       "      <td>181.061508</td>\n",
       "      <td>...</td>\n",
       "      <td>-0.375</td>\n",
       "      <td>DSEP</td>\n",
       "      <td>0</td>\n",
       "      <td>0</td>\n",
       "      <td>0</td>\n",
       "      <td>11.459</td>\n",
       "      <td>11.104</td>\n",
       "      <td>11.075</td>\n",
       "      <td>none</td>\n",
       "      <td>-0.035185</td>\n",
       "    </tr>\n",
       "    <tr>\n",
       "      <th>196760</th>\n",
       "      <td>12984404</td>\n",
       "      <td>290.17230</td>\n",
       "      <td>52.423828</td>\n",
       "      <td>2139329467909467008</td>\n",
       "      <td>595517067</td>\n",
       "      <td>290.172325</td>\n",
       "      <td>52.423856</td>\n",
       "      <td>0.707362</td>\n",
       "      <td>0.009949</td>\n",
       "      <td>71.101357</td>\n",
       "      <td>...</td>\n",
       "      <td>-2.250</td>\n",
       "      <td>DSEP</td>\n",
       "      <td>0</td>\n",
       "      <td>0</td>\n",
       "      <td>0</td>\n",
       "      <td>9.851</td>\n",
       "      <td>9.212</td>\n",
       "      <td>9.095</td>\n",
       "      <td>none</td>\n",
       "      <td>-0.027551</td>\n",
       "    </tr>\n",
       "    <tr>\n",
       "      <th>196761</th>\n",
       "      <td>12984422</td>\n",
       "      <td>290.18420</td>\n",
       "      <td>52.404362</td>\n",
       "      <td>2139329399189739392</td>\n",
       "      <td>1570613422</td>\n",
       "      <td>290.184199</td>\n",
       "      <td>52.404460</td>\n",
       "      <td>0.975763</td>\n",
       "      <td>0.024997</td>\n",
       "      <td>39.035137</td>\n",
       "      <td>...</td>\n",
       "      <td>-0.102</td>\n",
       "      <td>DSEP</td>\n",
       "      <td>0</td>\n",
       "      <td>0</td>\n",
       "      <td>0</td>\n",
       "      <td>14.314</td>\n",
       "      <td>13.814</td>\n",
       "      <td>13.747</td>\n",
       "      <td>none</td>\n",
       "      <td>-0.040604</td>\n",
       "    </tr>\n",
       "  </tbody>\n",
       "</table>\n",
       "<p>5 rows × 86 columns</p>\n",
       "</div>"
      ],
      "text/plain": [
       "           kepid     ra_kic    dec_kic            source_id  random_index  \\\n",
       "196757  12984227  290.07986  52.453712  2139330189463960320    1434812375   \n",
       "196758  12984288  290.11249  52.415588  2139329875927860736     662936371   \n",
       "196759  12984307  290.12332  52.474621  2139330636140575616     923414311   \n",
       "196760  12984404  290.17230  52.423828  2139329467909467008     595517067   \n",
       "196761  12984422  290.18420  52.404362  2139329399189739392    1570613422   \n",
       "\n",
       "                ra        dec  parallax  parallax_error  parallax_over_error  \\\n",
       "196757  290.079838  52.453692  0.246011        0.018616            13.214761   \n",
       "196758  290.112599  52.415592  0.005198        0.055361             0.093884   \n",
       "196759  290.123462  52.474735  1.779882        0.009830           181.061508   \n",
       "196760  290.172325  52.423856  0.707362        0.009949            71.101357   \n",
       "196761  290.184199  52.404460  0.975763        0.024997            39.035137   \n",
       "\n",
       "        ...  mass_err2  prov_sec  nconfp  nkoi  ntce    jmag    hmag    kmag  \\\n",
       "196757  ...     -0.484      DSEP       0     0     0   8.505   7.589   7.295   \n",
       "196758  ...     -0.157      DSEP       0     0     0  16.289  15.603  15.306   \n",
       "196759  ...     -0.375      DSEP       0     0     0  11.459  11.104  11.075   \n",
       "196760  ...     -2.250      DSEP       0     0     0   9.851   9.212   9.095   \n",
       "196761  ...     -0.102      DSEP       0     0     0  14.314  13.814  13.747   \n",
       "\n",
       "        planet?  kepler_gaia_mag_diff  \n",
       "196757     none             -0.332914  \n",
       "196758     none             -0.235144  \n",
       "196759     none             -0.035185  \n",
       "196760     none             -0.027551  \n",
       "196761     none             -0.040604  \n",
       "\n",
       "[5 rows x 86 columns]"
      ]
     },
     "execution_count": 15,
     "metadata": {},
     "output_type": "execute_result"
    }
   ],
   "source": [
    "df.tail()"
   ]
  },
  {
   "cell_type": "markdown",
   "id": "fc036689",
   "metadata": {},
   "source": [
    "### Criterion 1: Teff and logg cuts"
   ]
  },
  {
   "cell_type": "code",
   "execution_count": 12,
   "id": "277d4d75",
   "metadata": {},
   "outputs": [],
   "source": [
    "criterion1 = df.teff < 3400"
   ]
  },
  {
   "cell_type": "code",
   "execution_count": 13,
   "id": "ad340242",
   "metadata": {},
   "outputs": [
    {
     "data": {
      "text/plain": [
       "989"
      ]
     },
     "execution_count": 13,
     "metadata": {},
     "output_type": "execute_result"
    }
   ],
   "source": [
    "criterion1.sum()"
   ]
  },
  {
   "cell_type": "markdown",
   "id": "1234067e",
   "metadata": {},
   "source": [
    "### Criterion 2:"
   ]
  },
  {
   "cell_type": "code",
   "execution_count": null,
   "id": "bb524aeb",
   "metadata": {},
   "outputs": [],
   "source": []
  }
 ],
 "metadata": {
  "kernelspec": {
   "display_name": "Python 3 (ipykernel)",
   "language": "python",
   "name": "python3"
  },
  "language_info": {
   "codemirror_mode": {
    "name": "ipython",
    "version": 3
   },
   "file_extension": ".py",
   "mimetype": "text/x-python",
   "name": "python",
   "nbconvert_exporter": "python",
   "pygments_lexer": "ipython3",
   "version": "3.10.8"
  }
 },
 "nbformat": 4,
 "nbformat_minor": 5
}
