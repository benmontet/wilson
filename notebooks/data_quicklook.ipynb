{
 "cells": [
  {
   "cell_type": "code",
   "execution_count": 1,
   "id": "0e3a0739",
   "metadata": {},
   "outputs": [],
   "source": [
    "import numpy as np\n",
    "import matplotlib.pyplot as plt\n",
    "import pandas as pd"
   ]
  },
  {
   "cell_type": "code",
   "execution_count": 2,
   "id": "8c06192e",
   "metadata": {},
   "outputs": [],
   "source": [
    "a = pd.read_csv('lc_data_new.out')"
   ]
  },
  {
   "cell_type": "code",
   "execution_count": 36,
   "id": "3ba25b4c",
   "metadata": {},
   "outputs": [],
   "source": [
    "times = np.array([54945.74206,54945.8670833,54946.0182163,54946.2335259,54946.3377372,54946.5495655,\n",
    "                  54946.7334679,54947.1662509,55062.8253608,55091.0055606,55123.0864583,55153.9797114,\n",
    "                  55182.0366329,55215.9548927,55216.0352649,55245.7660019,55274.7398619,55307.5350333,\n",
    "                  55336.4281441,55370.695297,55399.0571196,55430.8109392,55461.8291274,55492.8064711,\n",
    "                  55522.7621353,55552.0843583,55585.5760016,55614.7389024,55677.4444762,55706.6440223,\n",
    "                  55738.4591443,55769.477399,55801.7624176,55832.8010616,55864.8001316,55895.757043,\n",
    "                  55930.8619526,55958.4268791,55986.5230115,56014.5579184,56047.5173675,56077.4525238,\n",
    "                  56105.5895974,56137.5273556,56168.8315615,56203.8547584,56236.834641,56267.9141396,\n",
    "                  56303.6729488,56330.563549,56357.495041,56390.4952381])"
   ]
  },
  {
   "cell_type": "code",
   "execution_count": 39,
   "id": "68c3bbb0",
   "metadata": {},
   "outputs": [],
   "source": [
    "flux = a[a['KIC'] == 8462852].iloc[:,1:53]\n",
    "yerr = a[a['KIC'] == 8462852].iloc[:,-52:]"
   ]
  },
  {
   "cell_type": "code",
   "execution_count": 47,
   "id": "45340374",
   "metadata": {},
   "outputs": [
    {
     "data": {
      "text/plain": [
       "<ErrorbarContainer object of 3 artists>"
      ]
     },
     "execution_count": 47,
     "metadata": {},
     "output_type": "execute_result"
    },
    {
     "data": {
      "image/png": "[encoded data removed]",
      "text/plain": [
       "<Figure size 432x288 with 1 Axes>"
      ]
     },
     "metadata": {
      "needs_background": "light"
     },
     "output_type": "display_data"
    }
   ],
   "source": [
    "plt.errorbar(times, np.asarray(flux)[0], yerr=np.asarray(yerr)[0], fmt='.')"
   ]
  },
  {
   "cell_type": "code",
   "execution_count": null,
   "id": "092f2dba",
   "metadata": {},
   "outputs": [],
   "source": []
  },
  {
   "cell_type": "code",
   "execution_count": null,
   "id": "74e44135",
   "metadata": {},
   "outputs": [],
   "source": []
  }
 ],
 "metadata": {
  "kernelspec": {
   "display_name": "Python 3 (ipykernel)",
   "language": "python",
   "name": "python3"
  },
  "language_info": {
   "codemirror_mode": {
    "name": "ipython",
    "version": 3
   },
   "file_extension": ".py",
   "mimetype": "text/x-python",
   "name": "python",
   "nbconvert_exporter": "python",
   "pygments_lexer": "ipython3",
   "version": "3.9.7"
  }
 },
 "nbformat": 4,
 "nbformat_minor": 5
}
